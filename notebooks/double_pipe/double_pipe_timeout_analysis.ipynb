{
 "cells": [
  {
   "cell_type": "code",
   "execution_count": 1,
   "metadata": {},
   "outputs": [],
   "source": [
    "import sys\n",
    "sys.path.append('../../')\n",
    "\n",
    "from amplify.client import FixstarsClient\n",
    "from matplotlib import pyplot as plt\n",
    "import numpy as np\n",
    "import os\n",
    "\n",
    "from flow_solver.finite_element_model import FEM\n",
    "from flow_solver.mesh_generator import MeshDoublePipe\n",
    "from optimizer import  AnnealingSolver\n",
    "from problems.topo_opt_level_set_fluid_flow import TopologyOptimizationProblem"
   ]
  },
  {
   "cell_type": "markdown",
   "metadata": {},
   "source": [
    "# Timeout Analysis for Double Pipe Problem"
   ]
  },
  {
   "cell_type": "markdown",
   "metadata": {},
   "source": [
    "## Computational Mesh"
   ]
  },
  {
   "cell_type": "code",
   "execution_count": 2,
   "metadata": {},
   "outputs": [],
   "source": [
    "# Create Meshes for double pipe problem.\n",
    "n_elem_for_width = 48\n",
    "n_elem_for_height = 32\n",
    "mesh_v = MeshDoublePipe('Q2', n_elem_for_width, n_elem_for_height, width=1.5, height=1.0, inlet_height=1./6., outlet_height=1./6.)\n",
    "mesh_p = MeshDoublePipe('Q1', n_elem_for_width, n_elem_for_height, width=1.5, height=1.0, inlet_height=1./6., outlet_height=1./6.)"
   ]
  },
  {
   "cell_type": "markdown",
   "metadata": {},
   "source": [
    "## Finite Element Model"
   ]
  },
  {
   "cell_type": "markdown",
   "metadata": {},
   "source": [
    "### Boundary Conditions"
   ]
  },
  {
   "cell_type": "code",
   "execution_count": 3,
   "metadata": {},
   "outputs": [],
   "source": [
    "def upper_inlet_velocity(mesh, i_node):\n",
    "    x = mesh.coords[i_node][0]; y = mesh.coords[i_node][1]\n",
    "    v_x = 1-144*((y-3/4)**2); v_y = 0.0\n",
    "    return np.array([v_x, v_y])"
   ]
  },
  {
   "cell_type": "code",
   "execution_count": 4,
   "metadata": {},
   "outputs": [],
   "source": [
    "def lower_inlet_velocity(mesh, i_node):\n",
    "    x = mesh.coords[i_node][0]; y = mesh.coords[i_node][1]\n",
    "    v_x = 1-144*((y-1/4)**2); v_y = 0.0\n",
    "    return np.array([v_x,v_y])"
   ]
  },
  {
   "cell_type": "code",
   "execution_count": 5,
   "metadata": {},
   "outputs": [],
   "source": [
    "# Compute boundary velocities.\n",
    "boundary_velocity = {key: [] for key in mesh_v.boundary_nodes.keys()}\n",
    "for boundary in mesh_v.boundary_nodes.keys():\n",
    "    for i_node in mesh_v.boundary_nodes[boundary]:\n",
    "        if boundary == 'inlet_upper':\n",
    "            boundary_velocity[boundary].append(upper_inlet_velocity(mesh_v, i_node))\n",
    "        elif boundary == 'inlet_lower':\n",
    "            boundary_velocity[boundary].append(lower_inlet_velocity(mesh_v, i_node))\n",
    "        elif boundary == 'wall':\n",
    "            boundary_velocity[boundary].append(np.zeros(2))\n",
    "        if boundary == 'outlet_upper':\n",
    "            boundary_velocity[boundary].append(upper_inlet_velocity(mesh_v, i_node))\n",
    "        elif boundary == 'outlet_lower':\n",
    "            boundary_velocity[boundary].append(lower_inlet_velocity(mesh_v, i_node))\n",
    "\n",
    "# Set values for Dirichlet boundary conditions.\n",
    "# Velocity.\n",
    "BC = []\n",
    "for boundary in mesh_v.boundary_nodes.keys():\n",
    "    for i_node, node in enumerate(mesh_v.boundary_nodes[boundary]):\n",
    "        if (boundary == 'inlet_upper' or \n",
    "            boundary == 'inlet_lower' or \n",
    "            boundary == 'wall' or \n",
    "            boundary == 'outlet_upper' or \n",
    "            boundary == 'outlet_lower'):\n",
    "            BC.append([node, 0, boundary_velocity[boundary][i_node][0]])\n",
    "            BC.append([node, 1, boundary_velocity[boundary][i_node][1]])\n",
    "boundary_values_v = np.array(BC)"
   ]
  },
  {
   "cell_type": "markdown",
   "metadata": {},
   "source": [
    "### Material Properties."
   ]
  },
  {
   "cell_type": "code",
   "execution_count": 6,
   "metadata": {},
   "outputs": [],
   "source": [
    "viscosity = 1. \n",
    "density = 1.\n",
    "\n",
    "# \n",
    "epsilon = 8.e-2"
   ]
  },
  {
   "cell_type": "markdown",
   "metadata": {},
   "source": [
    "### Finite Element Model"
   ]
  },
  {
   "cell_type": "code",
   "execution_count": 7,
   "metadata": {},
   "outputs": [],
   "source": [
    "fem = FEM(mesh_v, mesh_p, viscosity, density, epsilon)\n",
    "fem.set_boudary_values_v(boundary_values_v)"
   ]
  },
  {
   "cell_type": "code",
   "execution_count": 8,
   "metadata": {},
   "outputs": [
    {
     "name": "stdout",
     "output_type": "stream",
     "text": [
      "Objective Function:0.001291177124467389\n"
     ]
    }
   ],
   "source": [
    "U, u_e, v_e, p_e, F, f=fem.solve()\n",
    "objective_initial = F\n",
    "volume_fraction_initial = 1.0\n",
    "print(f'Objective Function:{f}')\n",
    "# fem.plot_velocity_field([u_e, v_e])\n",
    "# fem.plot_velocity_magnitude([u_e, v_e])\n",
    "# fem.plot_pressure(p_e)"
   ]
  },
  {
   "cell_type": "markdown",
   "metadata": {},
   "source": [
    "## Timeout Analysis"
   ]
  },
  {
   "cell_type": "code",
   "execution_count": 9,
   "metadata": {},
   "outputs": [],
   "source": [
    "# Annealing Solver.\n",
    "client = FixstarsClient()\n",
    "client.parameters.timeout = 10000\n",
    "client.parameters.outputs.duplicate = True\n",
    "if os.path.exists('token_Fixstars.txt'):\n",
    "    client.token = open('token_Fixstars.txt',\"r\").read().replace('\\n', '')\n",
    "if os.path.exists('proxy.txt'):\n",
    "    client.proxy = open('proxy.txt',\"r\").read().replace('\\n', '')\n",
    "\n",
    "annealing_solver = AnnealingSolver(client)"
   ]
  },
  {
   "cell_type": "code",
   "execution_count": 10,
   "metadata": {},
   "outputs": [],
   "source": [
    "# Topology Optimization Problem\n",
    "n_qubits_per_variable = 9\n",
    "volume_fraction_max = 1./3. # Volume fraction.\n",
    "hyperparameters = {\n",
    "    'energy_dissipation': 1.,\n",
    "    'regularization': 0.,\n",
    "    'volume_constraint': 0.05,\n",
    "    'char_func': 0.,\n",
    "}\n",
    "topo_opt_problem = TopologyOptimizationProblem(fem.ne, n_qubits_per_variable, hyperparameters, volume_fraction_max)\n",
    "topo_opt_problem.generate_discretizaton()\n",
    "resistance_coeff_solid = fem.viscosity/fem.epsilon\n",
    "topo_opt_problem.generate_qubo_formulation(u_e, v_e, resistance_coeff_solid, fem.mesh_v.neighbor_elements)"
   ]
  },
  {
   "cell_type": "code",
   "execution_count": 11,
   "metadata": {},
   "outputs": [],
   "source": [
    "def plot_history(history):\n",
    "    time = history['sampling_time']\n",
    "    energy = history['energy']    \n",
    "    plt.figure(figsize=(4,3))\n",
    "    plt.plot(time,energy,linestyle='None', marker='o',color='deepskyblue')\n",
    "    plt.show()"
   ]
  },
  {
   "cell_type": "code",
   "execution_count": 12,
   "metadata": {},
   "outputs": [
    {
     "data": {
      "image/png": "[encoded data removed]",
      "text/plain": [
       "<Figure size 400x300 with 1 Axes>"
      ]
     },
     "metadata": {},
     "output_type": "display_data"
    }
   ],
   "source": [
    "solution, history = annealing_solver.solve_qubo_problem(topo_opt_problem, track_history=True)\n",
    "plot_history(history)"
   ]
  },
  {
   "cell_type": "code",
   "execution_count": 13,
   "metadata": {},
   "outputs": [
    {
     "data": {
      "image/png": "[encoded data removed]",
      "text/plain": [
       "<Figure size 640x480 with 2 Axes>"
      ]
     },
     "metadata": {},
     "output_type": "display_data"
    }
   ],
   "source": [
    "level_set, level_set_scaled, char_func = topo_opt_problem.get_functions_from_binary_solutions(solution[-1])\n",
    "fem.plot_eva(char_func, title='Characteristic Function')"
   ]
  },
  {
   "cell_type": "code",
   "execution_count": null,
   "metadata": {},
   "outputs": [],
   "source": []
  }
 ],
 "metadata": {
  "kernelspec": {
   "display_name": "Python 3 (ipykernel)",
   "language": "python",
   "name": "python3"
  }
 },
 "nbformat": 4,
 "nbformat_minor": 2
}
