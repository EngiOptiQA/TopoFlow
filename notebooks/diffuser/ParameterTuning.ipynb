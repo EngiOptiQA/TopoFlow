{
 "cells": [
  {
   "cell_type": "code",
   "execution_count": 1,
   "id": "49e61066-9162-4aa8-b823-d2d70398f5cc",
   "metadata": {},
   "outputs": [],
   "source": [
    "import numpy as np\n",
    "from scipy.sparse import csr_matrix\n",
    "import sys\n",
    "sys.path.append('../../')\n",
    "\n",
    "import datetime\n",
    "import os\n",
    "\n",
    "from flow_solver.finite_element_model import FEM\n",
    "from flow_solver.mesh_generator_rec import MeshDiffuser\n",
    "from optimizer import Annealing, AnnealingSolver, PolyTop, AnnealingParameterTuning"
   ]
  },
  {
   "cell_type": "markdown",
   "id": "c81cdd6d-3b0a-437e-9e6a-660dcbbe87c2",
   "metadata": {},
   "source": [
    "# Parameter Tuning for Diffuser problem"
   ]
  },
  {
   "cell_type": "markdown",
   "id": "7da35873-fbe2-4a46-b06d-ba711f9efc7c",
   "metadata": {},
   "source": [
    "## Computational Mesh"
   ]
  },
  {
   "cell_type": "code",
   "execution_count": 2,
   "id": "c04d0a88-762a-4e23-9ad0-dedfe176cdd9",
   "metadata": {},
   "outputs": [],
   "source": [
    "# Create Meshes for Diffuser Problem\n",
    "n_elem_for_width = 32\n",
    "n_elem_for_height = 32\n",
    "\n",
    "mesh_v = MeshDiffuser('Q2', n_elem_for_width, n_elem_for_height)\n",
    "mesh_p = MeshDiffuser('Q1', n_elem_for_width, n_elem_for_height)\n",
    "\n",
    "if n_elem_for_width < 5:\n",
    "    mesh_v.plot()\n",
    "    mesh_p.plot()"
   ]
  },
  {
   "cell_type": "markdown",
   "id": "a7b611f4-e92c-402c-a2f9-28f28da2eff9",
   "metadata": {},
   "source": [
    "## Finite Element Model"
   ]
  },
  {
   "cell_type": "markdown",
   "id": "35767fe8-e8a3-4155-bc34-e85b5e4b8896",
   "metadata": {},
   "source": [
    "### Boundary Conditions"
   ]
  },
  {
   "cell_type": "code",
   "execution_count": 3,
   "id": "09f9e36c-d0bb-40bb-a042-717daf4befe2",
   "metadata": {},
   "outputs": [],
   "source": [
    "def inlet_velocity(mesh, i_node):\n",
    "    x = mesh.coords[i_node][0]; y = mesh.coords[i_node][1]\n",
    "    v_x = 4*(1.-y)*y; v_y = 0.0\n",
    "    return np.array([v_x, v_y])"
   ]
  },
  {
   "cell_type": "code",
   "execution_count": 4,
   "id": "79b69699-bd7c-4f62-8208-d3e23873a2cd",
   "metadata": {},
   "outputs": [],
   "source": [
    "# Compute boundary velocities.\n",
    "width =1/3\n",
    "boundary_velocity = {key: [] for key in mesh_v.boundary_nodes.keys()}\n",
    "for boundary in mesh_v.boundary_nodes.keys():\n",
    "    for i_node in mesh_v.boundary_nodes[boundary]:\n",
    "        if boundary == 'inlet':\n",
    "            boundary_velocity[boundary].append(inlet_velocity(mesh_v, i_node))\n",
    "        elif boundary == 'wall':\n",
    "            boundary_velocity[boundary].append(np.zeros(2))\n",
    "\n",
    "# Set values for Dirichlet boundary conditions.\n",
    "# Velocity.\n",
    "BC = []\n",
    "for boundary in mesh_v.boundary_nodes.keys():\n",
    "    for i_node, node in enumerate(mesh_v.boundary_nodes[boundary]):\n",
    "        if boundary == 'inlet' or boundary == 'wall' :\n",
    "            BC.append([node, 0, boundary_velocity[boundary][i_node][0]])\n",
    "            BC.append([node, 1, boundary_velocity[boundary][i_node][1]])\n",
    "boundary_values_v = np.array(BC)\n",
    "\n",
    "# Pressure.\n",
    "BC = []\n",
    "for boundary in mesh_p.boundary_nodes.keys():\n",
    "    for i_node, node in enumerate(mesh_p.boundary_nodes[boundary]):\n",
    "        if boundary == 'inlet' or boundary == 'wall':\n",
    "            pass\n",
    "boundary_values_p= np.array(BC)"
   ]
  },
  {
   "cell_type": "markdown",
   "id": "132f0ef0-34fd-447e-aa8b-eb8a30c3e077",
   "metadata": {},
   "source": [
    "### Material Properties"
   ]
  },
  {
   "cell_type": "code",
   "execution_count": 5,
   "id": "e7840fa9-dae5-4e1d-a100-80b0658260ce",
   "metadata": {},
   "outputs": [],
   "source": [
    "viscosity = 1.0; \n",
    "density = 1"
   ]
  },
  {
   "cell_type": "markdown",
   "id": "4a6f256f-2ace-4f28-9dea-6a7669036512",
   "metadata": {},
   "source": [
    "### Finite Element Model"
   ]
  },
  {
   "cell_type": "code",
   "execution_count": 6,
   "id": "6a50e20b-be84-470e-ae31-4323336692e4",
   "metadata": {},
   "outputs": [],
   "source": [
    "fem = FEM(mesh_v, mesh_p, viscosity, density)\n",
    "fem.set_boudary_values_v(boundary_values_v)"
   ]
  },
  {
   "cell_type": "code",
   "execution_count": 7,
   "id": "9cc20c04-90e9-42df-b700-6ecce4d81f07",
   "metadata": {},
   "outputs": [
    {
     "data": {
      "image/png": "[encoded data removed]",
      "text/plain": [
       "<Figure size 640x480 with 1 Axes>"
      ]
     },
     "metadata": {},
     "output_type": "display_data"
    }
   ],
   "source": [
    "U, u_e, v_e, p_e, F, f=fem.solve()\n",
    "coords, elements, boundary_nodes, neighbor_elements=mesh_p.create_mesh_Q1(n_elem_for_width, n_elem_for_height, 1., 1.)\n",
    "from flow_solver import Q2Q1FEM\n",
    "Q2Q1FEM.Plot_patch(n_elem_for_width,coords,elements,np.sqrt(u_e**2+v_e**2),3.,0,cmap='jet')"
   ]
  },
  {
   "cell_type": "code",
   "execution_count": 8,
   "id": "c74ec009-5041-4003-928c-c5cf037e88e2",
   "metadata": {},
   "outputs": [],
   "source": [
    "# Settings for Optimization.\n",
    "volume_fraction_max = 0.5 # Volume fraction.\n",
    "\n",
    "density_initial_QA = np.ones(mesh_v.n_elem) # Initial density, i.e., design variables, for each element.\n",
    "density_min = 0.0\n",
    "density_max = 1.0 # Lower and upper bound for design variables."
   ]
  },
  {
   "cell_type": "markdown",
   "id": "6bcc2ba4-7f37-423a-aca6-a12e5357cec3",
   "metadata": {},
   "source": [
    "## Optimization with Annealing"
   ]
  },
  {
   "cell_type": "code",
   "execution_count": 9,
   "id": "3e7ccf94-aaed-4d7c-9e8c-f73f00725786",
   "metadata": {},
   "outputs": [],
   "source": [
    "from amplify.client import FixstarsClient\n",
    "client = FixstarsClient()\n",
    "client.parameters.timeout = 1000\n",
    "client.parameters.outputs.duplicate = True\n",
    "client.token = 'AE/tAR7MLHq3WTe0DSGFyDWdcwHm4eKoIxN '\n",
    "#client.proxy = ''\n",
    "\n",
    "annealing_solver = AnnealingSolver(client)"
   ]
  },
  {
   "cell_type": "code",
   "execution_count": 10,
   "id": "8bb708bb-556d-439b-b5f1-fa3fc24e9104",
   "metadata": {},
   "outputs": [],
   "source": [
    "iterations = 10\n",
    "char = 25.\n",
    "vol = 160."
   ]
  },
  {
   "cell_type": "code",
   "execution_count": 11,
   "id": "d0badcd1-cc5e-4fa6-901b-b1f21e663d38",
   "metadata": {},
   "outputs": [],
   "source": [
    "dis_d = 0.2\n",
    "reg_d = 0.4"
   ]
  },
  {
   "cell_type": "code",
   "execution_count": 12,
   "id": "2348db82-ec34-458f-af3e-c0195655e406",
   "metadata": {},
   "outputs": [],
   "source": [
    "result_dir = 'figdata_'+datetime.datetime.now().strftime('%Y%m%d%H%M%S')\n",
    "os.mkdir(result_dir)"
   ]
  },
  {
   "cell_type": "code",
   "execution_count": null,
   "id": "94d0b83d-feb8-4e34-9db9-3c8e6f714a9c",
   "metadata": {},
   "outputs": [],
   "source": [
    "obj_list = []\n",
    "frac_list = []\n",
    "test_list = []\n",
    "for dis_num in range(10):\n",
    "    dis = dis_d * dis_num\n",
    "    for reg_num in range(11):\n",
    "        reg = reg_d * reg_num\n",
    "        annealing_optimizer = AnnealingParameterTuning(fem)\n",
    "        obj, frac, test = annealing_optimizer.optimize_tuning(annealing_solver, density_initial_QA, \n",
    "                                density_min, density_max, volume_fraction_max, dis, reg, \n",
    "                                char, vol, iterations, result_dir)\n",
    "        obj_list.append(obj)\n",
    "        frac_list.append(frac)\n",
    "        test_list.append(test)"
   ]
  },
  {
   "cell_type": "code",
   "execution_count": null,
   "id": "c8607160-cf47-4496-a1a7-9d87d2651cfc",
   "metadata": {},
   "outputs": [],
   "source": [
    "eloss = np.array(obj_list)\n",
    "ax = plt.axes()\n",
    "plt.imshow(eloss.reshape((10,11)),cmap='jet',vmax =14.9)\n",
    "ax=plt.gca()\n",
    "ax.set_xticks(np.arange(0, 11, 1))\n",
    "ax.set_yticks(np.arange(0, 10, 1))\n",
    "ax.set_xticks(np.arange(-.5, 11, 1), minor=True)\n",
    "ax.set_yticks(np.arange(-.5, 10, 1), minor=True)\n",
    "ax.tick_params(labelbottom=False,labelleft=False,labelright=False,labeltop=False)\n",
    "ax.grid(which='minor', color='w', linestyle='-', linewidth=1.5)\n",
    "plt.colorbar()\n",
    "plt.tick_params(bottom=False,left=False,right=False,top=False)\n",
    "plt.show()"
   ]
  },
  {
   "cell_type": "code",
   "execution_count": null,
   "id": "6e562924-4c8e-459d-9a25-0d06706fdd4f",
   "metadata": {},
   "outputs": [],
   "source": [
    "vfrac = np.array(frac_list)\n",
    "ax = plt.axes()\n",
    "plt.imshow(vfrac.reshape((10,11)),cmap='jet',vmax =14.9)\n",
    "ax=plt.gca()\n",
    "ax.set_xticks(np.arange(0, 11, 1))\n",
    "ax.set_yticks(np.arange(0, 10, 1))\n",
    "ax.set_xticks(np.arange(-.5, 11, 1), minor=True)\n",
    "ax.set_yticks(np.arange(-.5, 10, 1), minor=True)\n",
    "ax.tick_params(labelbottom=False,labelleft=False,labelright=False,labeltop=False)\n",
    "ax.grid(which='minor', color='w', linestyle='-', linewidth=1.5)\n",
    "plt.colorbar()\n",
    "plt.tick_params(bottom=False,left=False,right=False,top=False)\n",
    "plt.show()"
   ]
  },
  {
   "cell_type": "code",
   "execution_count": null,
   "id": "776c793a-dee6-4daa-a286-39518fc58f34",
   "metadata": {},
   "outputs": [],
   "source": [
    "heav_err = np.array(test_list)\n",
    "ax = plt.axes()\n",
    "plt.imshow(heav_err.reshape((10,11)),cmap='jet',vmax =14.9)\n",
    "ax=plt.gca()\n",
    "ax.set_xticks(np.arange(0, 11, 1))\n",
    "ax.set_yticks(np.arange(0, 10, 1))\n",
    "ax.set_xticks(np.arange(-.5, 11, 1), minor=True)\n",
    "ax.set_yticks(np.arange(-.5, 10, 1), minor=True)\n",
    "ax.tick_params(labelbottom=False,labelleft=False,labelright=False,labeltop=False)\n",
    "ax.grid(which='minor', color='w', linestyle='-', linewidth=1.5)\n",
    "plt.colorbar()\n",
    "plt.tick_params(bottom=False,left=False,right=False,top=False)\n",
    "plt.show()"
   ]
  },
  {
   "cell_type": "code",
   "execution_count": null,
   "id": "1d560d12-9301-4114-ad0c-b3e2cc5a7388",
   "metadata": {},
   "outputs": [],
   "source": [
    "fig, axs = plt.subplots(10, 11, figsize=(15, 15))\n",
    "plt.subplots_adjust(left=0, right=1, bottom=0, top=1)\n",
    "plt.subplots_adjust(wspace=0.1,hspace=0.1)\n",
    "for dis_num in range(10):\n",
    "    dis = dis_d * dis_num\n",
    "    for reg_num in range(11):\n",
    "        reg = reg_d * reg_num\n",
    "        img = np.load(result_dir+f'/array_el_{dis}_ge_{reg}_hev_{char}_dc_{vol}.npy')\n",
    "        axs[dis_num][reg_num].imshow(img.reshape(32,32).T,cmap='gray')\n",
    "        axs[dis_num][reg_num].tick_params(labelbottom=False,labelleft=False,labelright=False,labeltop=False)\n",
    "        axs[dis_num][reg_num].tick_params(bottom=False,left=False,right=False,top=False)\n",
    "        axs[dis_num][reg_num].spines['right'].set_visible(False)\n",
    "        axs[dis_num][reg_num].spines['top'].set_visible(False)\n",
    "        axs[dis_num][reg_num].spines['bottom'].set_visible(False)\n",
    "        axs[dis_num][reg_num].spines['left'].set_visible(False)\n",
    "plt.show()"
   ]
  }
 ],
 "metadata": {
  "kernelspec": {
   "display_name": "Python 3 (ipykernel)",
   "language": "python",
   "name": "python3"
  },
  "language_info": {
   "codemirror_mode": {
    "name": "ipython",
    "version": 3
   },
   "file_extension": ".py",
   "mimetype": "text/x-python",
   "name": "python",
   "nbconvert_exporter": "python",
   "pygments_lexer": "ipython3",
   "version": "3.9.18"
  }
 },
 "nbformat": 4,
 "nbformat_minor": 5
}
