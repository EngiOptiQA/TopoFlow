{
 "cells": [
  {
   "cell_type": "code",
   "execution_count": 183,
   "id": "dda32388-7805-49e7-8776-ebb5f81ab298",
   "metadata": {},
   "outputs": [],
   "source": [
    "import numpy as np\n",
    "import matplotlib.pyplot as plt\n",
    "from scipy.sparse import csr_matrix, csc_matrix, coo_matrix, lil_matrix, hstack, vstack, linalg\n",
    "import numpy.matlib"
   ]
  },
  {
   "cell_type": "code",
   "execution_count": 165,
   "id": "79e8bf86-bb2d-4477-a0b4-ce79ddc4db70",
   "metadata": {},
   "outputs": [],
   "source": [
    "Node,Element,NodeBC=PolyMesher(4)"
   ]
  },
  {
   "cell_type": "code",
   "execution_count": 166,
   "id": "66e2b3ad-7cf7-4f1c-8c1d-de86fd47a3be",
   "metadata": {},
   "outputs": [],
   "source": [
    "fem_NNode = Node.shape[0]    # Number of nodes\n",
    "fem_NElem = Element.shape[0] # Number of elements\n",
    "fem_Node = Node           # [NNode x 2] array of nodes\n",
    "fem_Element = Element     # [NElement x Var] cell array of elements\n",
    "fem_NodeBC = NodeBC       # Array of velocity boundary conditions\n",
    "fem_mu0 = 1               # Dynamic viscosity\n",
    "fem_Reg = 0               # Tag for regular meshes\n",
    "R = -1\n",
    "Volfrac = 0.75\n",
    "P_ori = np.identity(fem_NElem)\n",
    "P = csr_matrix(P_ori)"
   ]
  },
  {
   "cell_type": "code",
   "execution_count": 167,
   "id": "1f059294-41d1-4460-b0a3-e3766fd131fc",
   "metadata": {},
   "outputs": [],
   "source": [
    "#zIni = np.load('Lshape_16/sol_sort_16.npy')\n",
    "zIni = np.ones(P.shape[0])*Volfrac"
   ]
  },
  {
   "cell_type": "code",
   "execution_count": 168,
   "id": "bd03e6a6-9608-4f58-b101-f8a4a0843c76",
   "metadata": {},
   "outputs": [],
   "source": [
    "opt_zMin=0.0    # Lower bound for design variables\n",
    "opt_zMax=1.0    # Upper bound for design variables\n",
    "opt_zIni = zIni # Initial design variables\n",
    "opt_P = P       # Matrix that maps design to element vars.\n",
    "opt_VolFrac = Volfrac  # Specified volume fraction cosntraint\n",
    "opt_Tol = 0.01   # Convergence tolerance on design vars.\n",
    "opt_MaxIter = 150  # Max. number of optimization iterations\n",
    "opt_OCMove = 0.2  # Allowable move step in OC update scheme\n",
    "opt_OCEta = 0.5  # Exponent used in OC update scheme"
   ]
  },
  {
   "cell_type": "code",
   "execution_count": 169,
   "id": "d90e3618-59a3-40fe-bbe8-1e569b6dfa17",
   "metadata": {},
   "outputs": [],
   "source": [
    "Tol=opt_Tol*(opt_zMax-opt_zMin)\n",
    "Change=2*Tol\n",
    "z=opt_zIni\n",
    "P=opt_P"
   ]
  },
  {
   "cell_type": "code",
   "execution_count": 170,
   "id": "326f1bac-c39e-486f-99f3-09e1946d3f02",
   "metadata": {},
   "outputs": [],
   "source": [
    "E,dEdy,V,dVdy = MatIntFnc(P*z,np.array([fem_mu0,0.01]))"
   ]
  },
  {
   "cell_type": "code",
   "execution_count": 171,
   "id": "b552eefe-03bf-4a33-a7af-0043338a18e3",
   "metadata": {},
   "outputs": [],
   "source": [
    "g,dgdE,dgdV,fem_ElemArea = ConstraintFnc(fem_NElem,fem_Node,fem_Element,E,V,Volfrac)"
   ]
  },
  {
   "cell_type": "code",
   "execution_count": 172,
   "id": "03bf7c49-7dd6-4e23-84a5-73f117d96dda",
   "metadata": {},
   "outputs": [
    {
     "name": "stdout",
     "output_type": "stream",
     "text": [
      "58.228182635033534\n"
     ]
    }
   ],
   "source": [
    "fem_ElemNDofA = (2*fem_Element.shape[1])*np.ones(fem_Element.shape[0])\n",
    "fem_iA = np.zeros(int(sum(fem_ElemNDofA**2)))\n",
    "fem_jA=np.zeros(int(sum(fem_ElemNDofA**2)))\n",
    "fem_kAmu=np.zeros(int(sum(fem_ElemNDofA**2))) \n",
    "fem_kAalpha=np.zeros(int(sum(fem_ElemNDofA**2)))\n",
    "fem_e=np.zeros(int(sum(fem_ElemNDofA**2)))\n",
    "fem_iB = np.zeros(int(sum(fem_ElemNDofA)))\n",
    "fem_jB=np.zeros(int(sum(fem_ElemNDofA)))\n",
    "fem_kB=np.zeros(int(sum(fem_ElemNDofA)))\n",
    "fem_NDof = (2*fem_NNode+fem_NElem+1)\n",
    "indexA = 0\n",
    "indexB = 0\n",
    "fem_ShapeFnc_W,fem_ShapeFnc_N,fem_ShapeFnc_dNdxi = TabShapeFnc(4)\n",
    "for el in range(fem_NElem):  \n",
    "    eNode = fem_Element[el,:]\n",
    "    eNDof = int(fem_ElemNDofA[el])\n",
    "    if el==0:\n",
    "        Amu_e,Aalpha_e,Be=LocalK(fem_mu0,fem_ShapeFnc_W,fem_ShapeFnc_dNdxi,fem_ShapeFnc_N,fem_Node,eNode)\n",
    "    eDofA = np.concatenate([(2*eNode).reshape(4,1),(2*eNode+1).reshape(4,1)],axis=1).reshape(eNDof,1)\n",
    "    I=np.matlib.repmat(eDofA ,1,eNDof)\n",
    "    J=I.T\n",
    "    fem_iA[indexA:indexA+eNDof**2] = I.T.flatten()\n",
    "    fem_jA[indexA:indexA+eNDof**2] = J.T.flatten()\n",
    "    fem_kAmu[indexA:indexA+eNDof**2] = Amu_e.flatten()\n",
    "    fem_kAalpha[indexA:indexA+eNDof**2] = Aalpha_e.flatten()\n",
    "    fem_e[indexA:indexA+eNDof**2] = el\n",
    "    fem_iB[indexB:indexB+eNDof] = eDofA.flatten()\n",
    "    fem_jB[indexB:indexB+eNDof] = el\n",
    "    fem_kB[indexB:indexB+eNDof] = Be.flatten()\n",
    "    indexA = indexA + eNDof**2\n",
    "    indexB = indexB + eNDof\n",
    "fem_FixedDofs = np.zeros((1,fem_NodeBC.shape[0]))\n",
    "fem_G = np.zeros((fem_NodeBC.shape[0],1))\n",
    "for i in range(fem_NodeBC.shape[0]):\n",
    "    fem_FixedDofs[0,i] = 2*(fem_NodeBC[i,0]) + fem_NodeBC[i,1]\n",
    "    fem_G[i] = fem_NodeBC[i,2]\n",
    "fem_FreeDofs = np.setdiff1d(np.arange(fem_NDof),fem_FixedDofs)\n",
    "A = csr_matrix((fem_kAmu+E[fem_e.astype(int)]*fem_kAalpha,(fem_iA.astype(int),fem_jA.astype(int))))\n",
    "B = csr_matrix((fem_kB,(fem_iB.astype(int),fem_jB.astype(int))))\n",
    "Z=np.zeros((2*fem_NNode,1))\n",
    "O=csr_matrix((fem_NElem,fem_NElem),dtype='int')\n",
    "K_1 = hstack([A,B,Z])\n",
    "K_2 = hstack(([B.T,O,csr_matrix(fem_ElemArea.reshape(fem_ElemArea.shape[0],1))]))\n",
    "K_3 = hstack([Z.T,csr_matrix(fem_ElemArea),0])\n",
    "K = vstack([K_1,K_2,K_3])\n",
    "K = (K+K.transpose())/2\n",
    "S = np.zeros((fem_NDof,1)) \n",
    "S[fem_FixedDofs.astype(int),:]=fem_G\n",
    "\n",
    "S[fem_FreeDofs,:] = linalg.spsolve(K[fem_FreeDofs,:][:,fem_FreeDofs], \\\n",
    "                                   -K[fem_FreeDofs.flatten(),:][:,fem_FixedDofs.flatten()]*S[fem_FixedDofs.astype(int),:].flatten())[:,np.newaxis]\n",
    "U = S[:2*fem_NNode]\n",
    "F = A*U\n",
    "f = 1/2*np.dot(F.flatten(),U.flatten())\n",
    "print(f)"
   ]
  },
  {
   "cell_type": "code",
   "execution_count": 173,
   "id": "bba189b0-9299-41f6-ab10-9ea7308ff91c",
   "metadata": {},
   "outputs": [],
   "source": [
    "u_plot = np.zeros(int(U.shape[0]/2))\n",
    "v_plot = np.zeros(int(U.shape[0]/2))\n",
    "for i in range(u_plot.shape[0]):\n",
    "    u_plot[i] = U[2*i]\n",
    "    v_plot[i] = U[2*i+1]\n",
    "u_plot_elem = np.zeros(fem_NElem)\n",
    "v_plot_elem = np.zeros(fem_NElem)\n",
    "for i in range(fem_NElem):\n",
    "    u_plot_elem[i] = np.mean(u_plot[Element[i,:]]);\n",
    "    v_plot_elem[i] = np.mean(v_plot[Element[i,:]])"
   ]
  },
  {
   "cell_type": "code",
   "execution_count": 174,
   "id": "ec5b46df-28bf-4825-b5db-e430af61d0e8",
   "metadata": {},
   "outputs": [
    {
     "data": {
      "image/png": "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\n",
      "text/plain": [
       "<Figure size 800x800 with 1 Axes>"
      ]
     },
     "metadata": {},
     "output_type": "display_data"
    }
   ],
   "source": [
    "Node_T=Node.T\n",
    "centr = np.zeros((2,fem_NElem))\n",
    "for i in range(fem_NElem):\n",
    "    centr[0,i]=np.mean(Node_T[0,Element[i,:]])\n",
    "    centr[1,i]=np.mean(Node_T[1,Element[i,:]])\n",
    "plt.figure(figsize=(8,8))\n",
    "for temp_t in Element:\n",
    "    plt.plot([Node_T[0,temp_t[0]],Node_T[0,temp_t[1]]],[Node_T[1,temp_t[0]],Node_T[1,temp_t[1]]],color='magenta')\n",
    "    plt.plot([Node_T[0,temp_t[1]],Node_T[0,temp_t[2]]],[Node_T[1,temp_t[1]],Node_T[1,temp_t[2]]],color='magenta')\n",
    "    plt.plot([Node_T[0,temp_t[2]],Node_T[0,temp_t[3]]],[Node_T[1,temp_t[2]],Node_T[1,temp_t[3]]],color='magenta')\n",
    "    plt.plot([Node_T[0,temp_t[3]],Node_T[0,temp_t[0]]],[Node_T[1,temp_t[3]],Node_T[1,temp_t[0]]],color='magenta')\n",
    "\n",
    "for i in range(len(NodeBC)):\n",
    "    plt.scatter(Node[int(NodeBC[i,0]),0],Node[int(NodeBC[i,0]),1],color = 'dodgerblue')\n",
    "for i in range(fem_NElem):\n",
    "    plt.quiver(centr[0,i], centr[1,i], u_plot_elem[i], v_plot_elem[i],angles='xy', scale_units='xy', scale=7, width=0.005,color='dodgerblue')\n",
    "    #plt.scatter(centr[0,i], centr[1,i])"
   ]
  },
  {
   "cell_type": "code",
   "execution_count": 175,
   "id": "f9651f0f-19cd-46cc-b093-e643f855be0b",
   "metadata": {},
   "outputs": [],
   "source": [
    "def LocalK(fem_mu0,fem_ShapeFnc_W,fem_ShapeFnc_dNdxi,fem_ShapeFnc_N,fem_Node,eNode):\n",
    "    
    "    Cmu = fem_mu0*np.array([[2,0,0],[0,2,0],[0,0,1]])\n",
    "    nn=eNode.shape[0]\n",
    "    Amu_e=np.zeros((2*nn,2*nn))\n",
    "    Aalpha_e=Amu_e\n",
    "    Be=np.zeros(2*nn)\n",
    "    W = fem_ShapeFnc_W\n",
    "    for q in range(W.shape[0]):   #quadrature loop\n",
    "        dNdxi = fem_ShapeFnc_dNdxi[:,:,q]\n",
    "        J0 = np.dot(fem_Node[eNode,:].T,dNdxi)\n",
    "        dNdx = np.dot(dNdxi,np.linalg.pinv(J0))\n",
    "        B = np.zeros((3,2*nn))\n",
    "        B[0,[0,2,4,6]] = dNdx[:,0] \n",
    "        B[1,[1,3,5,7]] = dNdx[:,1] \n",
    "        B[2,[0,2,4,6]] = dNdx[:,1] \n",
    "        B[2,[1,3,5,7]] = dNdx[:,0]\n",
    "        Amu_e = Amu_e +(np.dot(np.dot(B.T,Cmu),B)*W[q]*np.linalg.det(J0))\n",
    "        N = fem_ShapeFnc_N[:,:,q]\n",
    "        Nu = np.zeros((2,2*nn))\n",
    "        Nu[0,[0,2,4,6]] = N.reshape(4)\n",
    "        Nu[1,[1,3,5,7]] = N.reshape(4)\n",
    "        Aalpha_e = Aalpha_e + np.dot(np.dot(Nu.T,Nu),W[q])*np.linalg.det(J0)\n",
    "        dNudx = dNdx.reshape(2*nn)\n",
    "        Be = Be - (dNudx.T)*W[q]*np.linalg.det(J0)\n",
    "    return Amu_e,Aalpha_e,Be"
   ]
  },
  {
   "cell_type": "code",
   "execution_count": 176,
   "id": "16632e2c-a614-4b99-acea-26f3fced2e54",
   "metadata": {},
   "outputs": [],
   "source": [
    "def TabShapeFnc(nn):\n",
    "    W,Q = PolyQuad(nn)            #🫠\n",
    "    fem_ShapeFnc_W = W\n",
    "    fem_ShapeFnc_N = np.zeros((nn,1,W.shape[0]))\n",
    "    fem_ShapeFnc_dNdxi = np.zeros((nn,2,W.shape[0]));\n",
    "    for q in range(W.shape[0]):\n",
    "        N,dNdxi = PolyShapeFnc(nn,Q[q,:])\n",
    "        fem_ShapeFnc_N[:,:,q] = N.reshape(4,1) \n",
    "        fem_ShapeFnc_dNdxi[:,:,q] = dNdxi\n",
    "    return fem_ShapeFnc_W,fem_ShapeFnc_N,fem_ShapeFnc_dNdxi"
   ]
  },
  {
   "cell_type": "code",
   "execution_count": 177,
   "id": "0edcb4c4-781f-4c71-8718-2dc3c2d21ca0",
   "metadata": {},
   "outputs": [],
   "source": [
    "def PolyShapeFnc(nn,xi):\n",
    "    N=np.zeros(nn)\n",
    "    alpha=np.zeros(nn)\n",
    "    dNdxi=np.zeros((nn,2)) \n",
    "    dalpha=np.zeros((nn,2))\n",
    "    sum_alpha=0.0\n",
    "    sum_dalpha=np.zeros((1,2))\n",
    "    A=np.zeros(nn)\n",
    "    dA=np.zeros((nn,2))\n",
    "    p,Tri = PolyTrnglt(nn,xi)\n",
    "    for i in range(nn):\n",
    "        sctr = Tri[i,:].astype(int)\n",
    "        pT = p[sctr,:]\n",
    "        A[i] = 1/2*np.linalg.det(np.concatenate((pT,np.ones((3,1))),axis=1))\n",
    "        dA[i,0] = 1/2*(pT[2,1]-pT[1,1])\n",
    "        dA[i,1] = 1/2*(pT[1,0]-pT[2,0])\n",
    "    dA = dA[[3,0,1,2,3],:]        #🫠\n",
    "    A = A[[3,0,1,2,3]]\n",
    "    for i in range(nn):\n",
    "        alpha[i] = 1/(A[i]*A[i+1])\n",
    "        dalpha[i,0] = -alpha[i]*(dA[i,0]/A[i]+dA[i+1,0]/A[i+1])\n",
    "        dalpha[i,1] = -alpha[i]*(dA[i,1]/A[i]+dA[i+1,1]/A[i+1])\n",
    "        sum_alpha += alpha[i]\n",
    "        sum_dalpha[0,:] += dalpha[i,:]\n",
    "    for i in range(nn):\n",
    "        N[i] = alpha[i]/sum_alpha\n",
    "        dNdxi[i,:] = (dalpha[i,:]-N[i]*sum_dalpha[:])/sum_alpha\n",
    "    return N,dNdxi"
   ]
  },
  {
   "cell_type": "code",
   "execution_count": 178,
   "id": "74a0f515-50ab-4226-bfe3-11f5aae94189",
   "metadata": {},
   "outputs": [],
   "source": [
    "def PolyQuad(nn):    \n",
    "    W = np.array([1/6,1/6,1/6])\n",
    "    Q = np.array([1/6,1/6,2/3,1/6,1/6,2/3]).reshape(3,2)\n",
    "    p,Tri = PolyTrnglt(nn,[0,0])\n",
    "    point=np.zeros(((W.shape)[0]*nn,2))\n",
    "    weight=np.zeros((W.shape)[0]*nn)\n",
    "    for k in range(nn):\n",
    "        sctr = (Tri[k,:]).astype(int)\n",
    "        for q in range(W.shape[0]):\n",
    "            N,dNds = TriShapeFnc(Q[q,:])\n",
    "            J0 = np.dot(p[sctr,:].T,dNds)\n",
    "            l = k*(W.shape[0]) + q\n",
    "            point[l,:] = np.dot(N.T,p[sctr,:])\n",
    "            weight[l] = np.linalg.det(J0)*W[q]\n",
    "    return weight, point"
   ]
  },
  {
   "cell_type": "code",
   "execution_count": 179,
   "id": "9e7ed696-fb0f-4794-af46-de8c0c186dab",
   "metadata": {},
   "outputs": [],
   "source": [
    "def PolyTrnglt(nn,xi):\n",
    "    p = np.zeros((nn+1,2))\n",
    "    for i in range(nn):\n",
    "        p[i,:] = np.cos(2*np.pi*(i+1)/nn), np.sin(2*np.pi*(i+1)/nn)\n",
    "    p[-1,:] = xi\n",
    "    Tri = np.zeros((nn,3))\n",
    "    Tri[:,0]=nn\n",
    "    Tri[:,1]=np.arange(nn) \n",
    "    Tri[:,2]=np.arange(nn)+1\n",
    "    Tri[nn-1,2]=0\n",
    "    return p,Tri"
   ]
  },
  {
   "cell_type": "code",
   "execution_count": 180,
   "id": "271dbe9b-8525-44b7-8f00-9161726a760f",
   "metadata": {},
   "outputs": [],
   "source": [
    "def TriShapeFnc(s):\n",
    "    N=np.array([1-s[0]-s[1],s[0],s[1]]).T\n",
    "    dNds=np.array([[-1,-1],[1,0],[0,1]])\n",
    "    return N,dNds"
   ]
  },
  {
   "cell_type": "code",
   "execution_count": 181,
   "id": "2c57c5fa-b098-462a-a71d-100b86e4b940",
   "metadata": {},
   "outputs": [],
   "source": [
    "def ConstraintFnc(fem_NElem,fem_Node,fem_Element,E,V,Volfrac):\n",
    "    fem_ElemArea = np.zeros(fem_NElem)\n",
    "    for el in range(fem_NElem):\n",
    "        vx = fem_Node[fem_Element[el,:],0]\n",
    "        vy = fem_Node[fem_Element[el,:],1]\n",
    "        vx_s = vx[[1,2,3,0]]                        #🫠\n",
    "        vy_s = vy[[1,2,3,0]]\n",
    "        fem_ElemArea[el] = 0.5*sum(vx*vy_s-vy*vx_s)\n",
    "    g = sum(fem_ElemArea*V)/sum(fem_ElemArea)-Volfrac\n",
    "    dgdE = np.zeros(E.shape)\n",
    "    dgdV = fem_ElemArea/sum(fem_ElemArea)\n",
    "    return g,dgdE,dgdV,fem_ElemArea"
   ]
  },
  {
   "cell_type": "code",
   "execution_count": 182,
   "id": "493ee9d6-965b-4cfa-901c-a8d5a90d2172",
   "metadata": {},
   "outputs": [],
   "source": [
    "def PolyMesher(nelm):\n",
    "    dx = 1/nelm\n",
    "    dy = dx\n",
    "    nnode = (nelm+1)*(3*nelm+1)\n",
    "    Node = np.zeros((nnode,2))\n",
    "    x = 0\n",
    "    for i in range(nelm):\n",
    "        y = 0\n",
    "        for j in range(nelm+1):\n",
    "            ind = i*(nelm+1)+j\n",
    "            Node[ind,:] = np.array([x,y])\n",
    "            y = y+dy\n",
    "        x = x+dx\n",
    "    for i in range(nelm+1):\n",
    "        y = 0\n",
    "        for j in range(2*nelm+1):\n",
    "            ind = nelm*(nelm+1)+i*(2*nelm+1)+j\n",
    "            Node[ind,:] = np.array([x,y])\n",
    "            y = y+dy\n",
    "        x = x+dx\n",
    "    elmN = nelm*nelm*3\n",
    "    conec = np.zeros((elmN,4))\n",
    "    ind = 0\n",
    "    for i in range((nelm+1)*nelm):\n",
    "        if i%(nelm+1)!=nelm:\n",
    "            conec[ind,:] = i,int(i+nelm+1), int(i+nelm+2), int(i+1)\n",
    "            ind = ind+1\n",
    "    for i in range((2*nelm+1)*nelm):\n",
    "        j = i+(nelm+1)*nelm\n",
    "        if i%(2*nelm+1)!=2*nelm:\n",
    "            conec[ind,:] = int(j),int(j+2*nelm+1),int(j+2*nelm+2),int(j+1)\n",
    "            ind = ind+1\n",
    "    Element = conec.astype(int)\n",
    "    NodeBC = BoundaryCnd(nelm,Node)\n",
    "    return Node, Element, NodeBC\n",
    "\n",
    "def BoundaryCnd(nelm,Node):\n",
    "    BC=[]\n",
    "    for i in range(nelm):\n",
    "        BC.append([(i+1)*(nelm+1),0,0])\n",
    "        BC.append([(i+1)*(nelm+1),1,0])\n",
    "        BC.append([(i+1)*(nelm+1)+nelm,0,0])\n",
    "        BC.append([(i+1)*(nelm+1)+nelm,1,0])\n",
    "        BC.append([(nelm+1)*nelm+(i+1)*(2*nelm+1),0,0])\n",
    "        BC.append([(nelm+1)*nelm+(i+1)*(2*nelm+1),1,0])\n",
    "    for i in range(nelm-1):\n",
    "        BC.append([(nelm+1)*(nelm+1)+i,0,0])\n",
    "        BC.append([(nelm+1)*(nelm+1)+i,1,0])\n",
    "    for i in range(nelm*2-1):\n",
    "        BC.append([(nelm+1)*nelm+(2*nelm+1)*nelm+1+i,0,0])\n",
    "        BC.append([(nelm+1)*nelm+(2*nelm+1)*nelm+1+i,1,0])\n",
    "    for i in range(nelm+1):\n",
    "        v_x = -(1-4*(1/2-Node[i,1])**2)\n",
    "        BC.append([i,0,v_x])\n",
    "        BC.append([i,1,0])\n",
    "        v_y = -(1-4*(3/2-Node[(nelm+1)*nelm+(2*nelm+1)*(i+1)-1,0])**2)\n",
    "        BC.append([(nelm+1)*nelm+(2*nelm+1)*(i+1)-1,0,0])\n",
    "        BC.append([(nelm+1)*nelm+(2*nelm+1)*(i+1)-1,1,v_y])\n",
    "    BC.sort()\n",
    "    NodeBC = np.array(BC)\n",
    "    return NodeBC\n",
    "def MatIntFnc(y,param):\n",
    "    mu0 = param[0]\n",
    "    q = param[1]\n",
    "    epsilon = 4*(10**-5)\n",
    "    E = (mu0/epsilon)*q*(1-y)/(y+q)\n",
    "    dEdy = -(mu0/epsilon)*(1+q)*q/((y+q)**2)\n",
    "    V = y\n",
    "    dVdy = np.ones(y.shape[0])\n",
    "    return E,dEdy,V,dVdy"
   ]
  },
  {
   "cell_type": "code",
   "execution_count": null,
   "id": "f13e142f-0bbc-4828-b0bb-340ebcf05187",
   "metadata": {},
   "outputs": [],
   "source": []
  }
 ],
 "metadata": {
  "kernelspec": {
   "display_name": "Python 3 (ipykernel)",
   "language": "python",
   "name": "python3"
  },
  "language_info": {
   "codemirror_mode": {
    "name": "ipython",
    "version": 3
   },
   "file_extension": ".py",
   "mimetype": "text/x-python",
   "name": "python",
   "nbconvert_exporter": "python",
   "pygments_lexer": "ipython3",
   "version": "3.9.18"
  }
 },
 "nbformat": 4,
 "nbformat_minor": 5
}
